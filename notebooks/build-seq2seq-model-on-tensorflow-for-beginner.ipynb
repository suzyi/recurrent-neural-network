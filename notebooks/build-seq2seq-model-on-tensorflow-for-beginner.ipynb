{
 "cells": [
  {
   "cell_type": "markdown",
   "metadata": {},
   "source": [
    "# Simple dynamic seq2seq with TensorFlow\n",
    "Guorui Shen, guorui233@outlook.com\n",
    "\n",
    "Tutorial for beginer to start building a seq2seq model. Modified from https://github.com/ematvey/tensorflow-seq2seq-tutorials\n",
    "\n",
    "**Task description**. Given a input, which is a list of integer numbers, say $a = [3, 7, 2]$, the encoder decoder seq2seq model is trained to remember and return the list."
   ]
  },
  {
   "cell_type": "code",
   "execution_count": 1,
   "metadata": {},
   "outputs": [],
   "source": [
    "import numpy as np\n",
    "import tensorflow as tf\n",
    "import helpers\n",
    "\n",
    "tf.reset_default_graph()\n",
    "sess = tf.InteractiveSession()"
   ]
  },
  {
   "cell_type": "code",
   "execution_count": 3,
   "metadata": {},
   "outputs": [],
   "source": [
    "PAD = 0\n",
    "EOS = 1"
   ]
  },
  {
   "cell_type": "markdown",
   "metadata": {},
   "source": [
    "### Model inputs and outputs "
   ]
  },
  {
   "cell_type": "code",
   "execution_count": 4,
   "metadata": {},
   "outputs": [],
   "source": [
    "encoder_inputs = tf.placeholder(shape=(None, None), dtype=tf.int32, name='encoder_inputs')   # (8, 100)\n",
    "decoder_targets = tf.placeholder(shape=(None, None), dtype=tf.int32, name='decoder_targets') # (9, 100)\n",
    "decoder_inputs = tf.placeholder(shape=(None, None), dtype=tf.int32, name='decoder_inputs')   # (9, 100)"
   ]
  },
  {
   "cell_type": "code",
   "execution_count": 5,
   "metadata": {},
   "outputs": [],
   "source": [
    "embeddings = tf.Variable(tf.random_uniform([10, 20], -1.0, 1.0), dtype=tf.float32)# (10, 20)"
   ]
  },
  {
   "cell_type": "code",
   "execution_count": 6,
   "metadata": {},
   "outputs": [
    {
     "name": "stdout",
     "output_type": "stream",
     "text": [
      "Tensor(\"embedding_lookup:0\", shape=(?, ?, 20), dtype=float32)\n"
     ]
    }
   ],
   "source": [
    "# (10, 8, 20)\n",
    "encoder_inputs_embedded = tf.nn.embedding_lookup(embeddings, encoder_inputs)\n",
    "\n",
    "# (10, 9, 20)\n",
    "decoder_inputs_embedded = tf.nn.embedding_lookup(embeddings, decoder_inputs)\n",
    "print encoder_inputs_embedded"
   ]
  },
  {
   "cell_type": "code",
   "execution_count": 7,
   "metadata": {},
   "outputs": [],
   "source": [
    "# # deletable\n",
    "# encoder_in = [[5, 5, 4, 0, 0, 0, 0, 0], [3, 5, 3, 9, 3, 8, 9, 0]]\n",
    "# print(sess.run(embeddings).shape)\n",
    "# print(sess.run(tf.nn.embedding_lookup(embeddings, encoder_in)).shape)\n",
    "# print(sess.run(tf.nn.embedding_lookup(embeddings, encoder_in))[:, :, :5])"
   ]
  },
  {
   "cell_type": "markdown",
   "metadata": {},
   "source": [
    "### Encoder"
   ]
  },
  {
   "cell_type": "code",
   "execution_count": 8,
   "metadata": {},
   "outputs": [],
   "source": [
    "encoder_cell = tf.contrib.rnn.LSTMCell(20)\n",
    "\n",
    "# 'encoder_final_state' is a tensor of shape [batch_size, num_hidden]\n",
    "# 'encoder_outputs' is a tensor of shape [batch_size, max_unrolling_time, num_hidden]\n",
    "encoder_outputs, encoder_final_state = tf.nn.dynamic_rnn(\n",
    "    encoder_cell, encoder_inputs_embedded,# (100, 8, 20), max_unrolling_time=8, num_hidden=20\n",
    "    dtype=tf.float32, time_major=True,\n",
    ")\n",
    "\n",
    "del encoder_outputs"
   ]
  },
  {
   "cell_type": "markdown",
   "metadata": {},
   "source": [
    "### Decoder"
   ]
  },
  {
   "cell_type": "code",
   "execution_count": 9,
   "metadata": {},
   "outputs": [],
   "source": [
    "decoder_cell = tf.contrib.rnn.LSTMCell(20)\n",
    "\n",
    "# 'decoder_outputs' is a tensor of shape [batch_size, max_unrolling_time, num_hidden]\n",
    "decoder_outputs, decoder_final_state = tf.nn.dynamic_rnn(\n",
    "    decoder_cell, decoder_inputs_embedded,\n",
    "\n",
    "    initial_state=encoder_final_state,\n",
    "\n",
    "    dtype=tf.float32, time_major=True, scope=\"plain_decoder\",\n",
    ")"
   ]
  },
  {
   "cell_type": "code",
   "execution_count": 10,
   "metadata": {},
   "outputs": [],
   "source": [
    "# 'decoder_logits' is a tensor of shape [batch_size, max_unrolling_time, num_outputs]\n",
    "decoder_logits = tf.contrib.layers.fully_connected(decoder_outputs, num_outputs=10, activation_fn=None)\n",
    "\n",
    "# returns the index with the largest value across axes of a tensor.\n",
    "# 'decoder_prediction' is a tensor of shape [batch_size, max_unrolling_time, 1]\n",
    "decoder_prediction = tf.argmax(decoder_logits, axis=2)"
   ]
  },
  {
   "cell_type": "code",
   "execution_count": 35,
   "metadata": {},
   "outputs": [
    {
     "name": "stdout",
     "output_type": "stream",
     "text": [
      "2.4611502\n"
     ]
    }
   ],
   "source": [
    "# deletable\n",
    "a1, a2 = 6, 5\n",
    "b1, b2 = tf.one_hot(a1, depth=10), tf.one_hot(a2, depth=10)\n",
    "print(sess.run(tf.nn.softmax_cross_entropy_with_logits(labels=b1, logits=b2)))"
   ]
  },
  {
   "cell_type": "markdown",
   "metadata": {},
   "source": [
    "### Optimizer"
   ]
  },
  {
   "cell_type": "code",
   "execution_count": 11,
   "metadata": {},
   "outputs": [
    {
     "name": "stdout",
     "output_type": "stream",
     "text": [
      "WARNING:tensorflow:From <ipython-input-11-06a6062bba14>:3: softmax_cross_entropy_with_logits (from tensorflow.python.ops.nn_ops) is deprecated and will be removed in a future version.\n",
      "Instructions for updating:\n",
      "\n",
      "Future major versions of TensorFlow will allow gradients to flow\n",
      "into the labels input on backprop by default.\n",
      "\n",
      "See tf.nn.softmax_cross_entropy_with_logits_v2.\n",
      "\n"
     ]
    }
   ],
   "source": [
    "# 'stepwise_cross_entropy' is a tensor of shape [batch_size, max_unrolling_time, 1]\n",
    "stepwise_cross_entropy = tf.nn.softmax_cross_entropy_with_logits(\n",
    "    labels=tf.one_hot(decoder_targets, depth=10, dtype=tf.float32),\n",
    "    logits=decoder_logits,\n",
    ")\n",
    "\n",
    "loss = tf.reduce_mean(stepwise_cross_entropy)\n",
    "train_op = tf.train.AdamOptimizer().minimize(loss)"
   ]
  },
  {
   "cell_type": "code",
   "execution_count": 12,
   "metadata": {},
   "outputs": [],
   "source": [
    "sess.run(tf.global_variables_initializer())"
   ]
  },
  {
   "cell_type": "code",
   "execution_count": 13,
   "metadata": {},
   "outputs": [
    {
     "name": "stdout",
     "output_type": "stream",
     "text": [
      "batch_encoded:\n",
      "[[6 3 9]\n",
      " [0 4 8]\n",
      " [0 0 7]]\n",
      "decoder inputs:\n",
      "[[1 1 1]\n",
      " [0 0 0]\n",
      " [0 0 0]\n",
      " [0 0 0]]\n",
      "decoder predictions:\n",
      "[[9 9 0]\n",
      " [9 9 4]\n",
      " [4 4 4]\n",
      " [4 4 4]]\n"
     ]
    }
   ],
   "source": [
    "batch_ = [[6], [3, 4], [9, 8, 7]]\n",
    "\n",
    "batch_, batch_length_ = helpers.batch(batch_)\n",
    "print('batch_encoded:\\n' + str(batch_))\n",
    "\n",
    "din_, dlen_ = helpers.batch(np.ones(shape=(3, 1), dtype=np.int32),\n",
    "                            max_sequence_length=4)\n",
    "print('decoder inputs:\\n' + str(din_))\n",
    "\n",
    "pred_ = sess.run(decoder_prediction,\n",
    "    feed_dict={\n",
    "        encoder_inputs: batch_,\n",
    "        decoder_inputs: din_,\n",
    "    })\n",
    "print('decoder predictions:\\n' + str(pred_))"
   ]
  },
  {
   "cell_type": "markdown",
   "metadata": {},
   "source": [
    "## Generate Data"
   ]
  },
  {
   "cell_type": "code",
   "execution_count": 14,
   "metadata": {},
   "outputs": [
    {
     "name": "stdout",
     "output_type": "stream",
     "text": [
      "head of the batch:\n",
      "[2, 2, 2, 2, 2, 2, 3]\n",
      "[3, 2, 2, 3, 2, 2, 2, 3]\n",
      "[3, 3, 3, 3, 3, 3, 2, 3]\n",
      "[3, 2, 2]\n",
      "[2, 2, 3, 3, 2, 2]\n",
      "[3, 2, 3, 3, 2, 2, 3, 3]\n",
      "[3, 2, 3, 3, 2, 3]\n",
      "[2, 2, 2, 2]\n",
      "[3, 2, 3, 2, 2]\n",
      "[3, 3, 3, 2, 2, 3, 2, 3]\n",
      "[2, 2, 3, 2, 2, 2, 2, 3]\n",
      "[2, 2, 3, 2, 2, 3, 3, 2]\n",
      "[3, 2, 2, 3, 2, 2]\n",
      "[3, 2, 3, 3, 3, 3, 2]\n",
      "[3, 3, 2, 3, 2, 3, 3]\n"
     ]
    }
   ],
   "source": [
    "batch_size = 100\n",
    "\n",
    "batches = helpers.random_sequences(length_from=3, length_to=8, # each list has length of at least 3, at most 8\n",
    "                                   vocab_lower=2, vocab_upper=10, # no less than 2, strictly less than 10\n",
    "                                   batch_size=batch_size)\n",
    "\n",
    "print('head of the batch:')\n",
    "for seq in next(batches)[:10]:\n",
    "    print(seq)"
   ]
  },
  {
   "cell_type": "code",
   "execution_count": 15,
   "metadata": {},
   "outputs": [],
   "source": [
    "def next_feed():\n",
    "    batch = next(batches)\n",
    "    encoder_inputs_, _ = helpers.batch(batch)\n",
    "    decoder_targets_, _ = helpers.batch(\n",
    "        [(sequence) + [EOS] for sequence in batch]\n",
    "    )\n",
    "    decoder_inputs_, _ = helpers.batch(\n",
    "        [[EOS] + (sequence) for sequence in batch]\n",
    "    )\n",
    "    return {\n",
    "        encoder_inputs: encoder_inputs_,\n",
    "        decoder_inputs: decoder_inputs_,\n",
    "        decoder_targets: decoder_targets_,\n",
    "    }"
   ]
  },
  {
   "cell_type": "code",
   "execution_count": 16,
   "metadata": {},
   "outputs": [
    {
     "name": "stdout",
     "output_type": "stream",
     "text": [
      "(8, 100)\n",
      "(9, 100)\n",
      "-----------------------------------------------------------------\n",
      "0th encoder_input  is [3 3 3 0 0 0 0 0]\n",
      "0th decoder_input  is [1 3 3 3 0 0 0 0 0]\n",
      "0th decoder_target is [3 3 3 1 0 0 0 0 0]\n",
      "-----------------------------------------------------------------\n",
      "1th encoder_input  is [3 3 3 0 0 0 0 0]\n",
      "1th decoder_input  is [1 3 3 3 0 0 0 0 0]\n",
      "1th decoder_target is [3 3 3 1 0 0 0 0 0]\n",
      "-----------------------------------------------------------------\n",
      "2th encoder_input  is [3 2 3 3 3 2 0 0]\n",
      "2th decoder_input  is [1 3 2 3 3 3 2 0 0]\n",
      "2th decoder_target is [3 2 3 3 3 2 1 0 0]\n"
     ]
    }
   ],
   "source": [
    "data = next_feed()\n",
    "print(data[encoder_inputs].shape)\n",
    "print(data[decoder_targets].shape)\n",
    "for i in range(2):\n",
    "    print('-----------------------------------------------------------------')\n",
    "    print('{}th encoder_input  is {}'.format(i, data[encoder_inputs][:, i]))\n",
    "    print('{}th decoder_input  is {}'.format(i, data[decoder_inputs][:, i]))\n",
    "    print('{}th decoder_target is {}'.format(i, data[decoder_targets][:, i]))"
   ]
  },
  {
   "cell_type": "markdown",
   "metadata": {},
   "source": [
    "## Train the Model"
   ]
  },
  {
   "cell_type": "code",
   "execution_count": 17,
   "metadata": {},
   "outputs": [],
   "source": [
    "loss_track = []"
   ]
  },
  {
   "cell_type": "code",
   "execution_count": 18,
   "metadata": {
    "scrolled": false
   },
   "outputs": [
    {
     "name": "stdout",
     "output_type": "stream",
     "text": [
      "0th batch\n",
      "  minibatch loss: 2.38414382935\n",
      "  sample 1:\n",
      "    input     > [3 3 3 3 0 0 0 0]\n",
      "    predicted > [9 9 2 2 2 4 4 4 4]\n",
      "  sample 2:\n",
      "    input     > [2 2 3 2 3 0 0 0]\n",
      "    predicted > [9 1 1 2 1 2 8 4 4]\n",
      "1000th batch\n",
      "  minibatch loss: 0.051749933511\n",
      "  sample 1:\n",
      "    input     > [3 2 2 3 3 3 0 0]\n",
      "    predicted > [3 2 2 3 3 3 1 0 0]\n",
      "  sample 2:\n",
      "    input     > [3 3 2 2 2 2 2 0]\n",
      "    predicted > [3 3 2 2 2 2 2 1 0]\n",
      "2000th batch\n",
      "  minibatch loss: 0.0194937121123\n",
      "  sample 1:\n",
      "    input     > [2 3 2 2 3 3 3 0]\n",
      "    predicted > [2 3 2 2 3 3 3 1 0]\n",
      "  sample 2:\n",
      "    input     > [2 3 3 3 0 0 0 0]\n",
      "    predicted > [2 3 3 3 1 0 0 0 0]\n",
      "3000th batch\n",
      "  minibatch loss: 0.0073439697735\n",
      "  sample 1:\n",
      "    input     > [2 3 2 3 0 0 0 0]\n",
      "    predicted > [2 3 2 3 1 0 0 0 0]\n",
      "  sample 2:\n",
      "    input     > [2 2 2 3 3 2 2 2]\n",
      "    predicted > [2 2 2 3 3 2 2 2 1]\n"
     ]
    }
   ],
   "source": [
    "for batch in range(3001):\n",
    "    feeddict = next_feed()\n",
    "    _, l = sess.run([train_op, loss], feeddict)\n",
    "    loss_track.append(l)\n",
    "\n",
    "    if batch == 0 or batch % 1000 == 0:\n",
    "        print('{}th batch'.format(batch))\n",
    "        print('  minibatch loss: {}'.format(sess.run(loss, feeddict)))\n",
    "        predict_ = sess.run(decoder_prediction, feeddict) # feeddict内含decoder_input，为什么可以直接用来预测？？\n",
    "        for i, (inp, pred) in enumerate(zip(feeddict[encoder_inputs].T, predict_.T)):\n",
    "            print('  sample {}:'.format(i + 1))\n",
    "            print('    input     > {}'.format(inp))\n",
    "            print('    predicted > {}'.format(pred))\n",
    "            if i >= 1:\n",
    "                break"
   ]
  },
  {
   "cell_type": "code",
   "execution_count": 19,
   "metadata": {},
   "outputs": [
    {
     "name": "stdout",
     "output_type": "stream",
     "text": [
      "loss 0.0074 after 300100 examples (batch_size=100)\n"
     ]
    },
    {
     "data": {
      "image/png": "[encoded data removed]",
      "text/plain": [
       "<matplotlib.figure.Figure at 0x7f8cdc015f90>"
      ]
     },
     "metadata": {
      "needs_background": "light"
     },
     "output_type": "display_data"
    }
   ],
   "source": [
    "%matplotlib inline\n",
    "import matplotlib.pyplot as plt\n",
    "plt.plot(loss_track)\n",
    "print('loss {:.4f} after {} examples (batch_size={})'.format(loss_track[-1], len(loss_track)*batch_size, batch_size))"
   ]
  },
  {
   "cell_type": "markdown",
   "metadata": {},
   "source": [
    "# Limitations of the model\n",
    "\n",
    "We have no control over transitions of `tf.nn.dynamic_rnn`, it is unrolled in a single sweep. Some of the things that are not possible without such control:\n",
    "\n",
    "- We can't feed previously generated tokens without falling back to Python loops. This means *we cannot make efficient inference with dynamic_rnn decoder*!\n",
    "\n",
    "- We can't use attention, because attention conditions decoder inputs on its previous state\n",
    "\n",
    "Solution would be to use `tf.nn.raw_rnn` instead of `tf.nn.dynamic_rnn` for decoder, as we will do in tutorial #2. "
   ]
  },
  {
   "cell_type": "markdown",
   "metadata": {},
   "source": [
    "# Fun things to try (aka Exercises)\n",
    "\n",
    "- In `copy_task` increasing `max_sequence_size` and `vocab_upper`. Observe slower learning and general performance degradation.\n",
    "\n",
    "- For `decoder_inputs`, instead of shifted target sequence `[<EOS> W X Y Z]`, try feeding `[<EOS> <PAD> <PAD> <PAD>]`, like we've done when we tested forward pass. Does it break things? Or slows learning?"
   ]
  },
  {
   "cell_type": "markdown",
   "metadata": {},
   "source": [
    "Something is definitely getting learned."
   ]
  }
 ],
 "metadata": {
  "kernelspec": {
   "display_name": "kernelForTF",
   "language": "python",
   "name": "kernelfortf"
  },
  "language_info": {
   "codemirror_mode": {
    "name": "ipython",
    "version": 2
   },
   "file_extension": ".py",
   "mimetype": "text/x-python",
   "name": "python",
   "nbconvert_exporter": "python",
   "pygments_lexer": "ipython2",
   "version": "2.7.12"
  }
 },
 "nbformat": 4,
 "nbformat_minor": 2
}
