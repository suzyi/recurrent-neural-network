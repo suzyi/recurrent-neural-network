{
 "cells": [
  {
   "cell_type": "markdown",
   "metadata": {},
   "source": [
    "# Seq2seq for Copying Task\n",
    "Guorui Shen, guorui233@outlook.com\n",
    "\n",
    "Jun 13, 2019.\n",
    "\n",
    "Tutorial for beginer to start building a seq2seq model. Modified from https://github.com/ematvey/tensorflow-seq2seq-tutorials"
   ]
  },
  {
   "cell_type": "markdown",
   "metadata": {},
   "source": [
    "**Task description**. Given a input, which is a list of integer numbers, the seq2seq model is trained to remember and return the list. For example,\n",
    "```\n",
    "raw input        -> padded to have same length -> expected output\n",
    "[3 6 7 3 4 5 3 ] -> [3 6 7 3 4 5 3 0]          -> [3 6 7 3 4 5 3 1 0]\n",
    "[5 3 5 4 7]      -> [5 3 5 4 7 0 0 0]          -> [5 3 5 4 7 1 0 0 0]\n",
    "[2 9 5]          -> [2 9 5 0 0 0 0 0]          -> [2 9 5 1 0 0 0 0 0]\n",
    "```\n",
    "eos = 1, pad = 0."
   ]
  },
  {
   "cell_type": "code",
   "execution_count": 1,
   "metadata": {},
   "outputs": [],
   "source": [
    "import numpy as np\n",
    "import tensorflow as tf\n",
    "import scipy.io as sio\n",
    "\n",
    "tf.reset_default_graph()\n",
    "sess = tf.InteractiveSession()"
   ]
  },
  {
   "cell_type": "markdown",
   "metadata": {},
   "source": [
    "## 1 - Load Data\n",
    "`PAD = 0`, `EOS = 1`"
   ]
  },
  {
   "cell_type": "code",
   "execution_count": 2,
   "metadata": {},
   "outputs": [],
   "source": [
    "data = sio.loadmat('copytask.mat')\n",
    "\n",
    "def next_batch(x, y, z, batch_size):\n",
    "    N = x.shape[1]\n",
    "    batch_indices = np.random.permutation(N)[:batch_size]\n",
    "    return x[:, batch_indices], y[:, batch_indices], z[:, batch_indices]"
   ]
  },
  {
   "cell_type": "code",
   "execution_count": 3,
   "metadata": {},
   "outputs": [],
   "source": [
    "batch_size = 100\n",
    "batch_encoder_inputs, batch_decoder_inputs, batch_decoder_targets = next_batch(\n",
    "    data['encoder_inputs'], data['decoder_inputs'], data['decoder_targets'], batch_size)"
   ]
  },
  {
   "cell_type": "code",
   "execution_count": 4,
   "metadata": {},
   "outputs": [
    {
     "name": "stdout",
     "output_type": "stream",
     "text": [
      "batch_encoder_inputs.shape = (encoder_max_unrolling_time, batch_size) = (8, 100)\n",
      "batch_decoder_inputs.shape = (decoder_max_unrolling_time, batch_size) = (9, 100)\n",
      "batch_decoder_targets.shape = (decoder_max_unrolling_time, batch_size) = (9, 100)\n",
      "--------------example 1---------------\n",
      "encoder_input is  [7 3 5 5 7 5 0 0]\n",
      "decoder_input is  [1 7 3 5 5 7 5 0 0]\n",
      "decoder_target is [7 3 5 5 7 5 1 0 0]\n",
      "--------------example 2---------------\n",
      "encoder_input is  [9 6 2 0 0 0 0 0]\n",
      "decoder_input is  [1 9 6 2 0 0 0 0 0]\n",
      "decoder_target is [9 6 2 1 0 0 0 0 0]\n"
     ]
    }
   ],
   "source": [
    "encoder_max_unrolling_time = len(batch_encoder_inputs)\n",
    "decoder_max_unrolling_time = len(batch_decoder_inputs)\n",
    "print(\"batch_encoder_inputs.shape = (encoder_max_unrolling_time, batch_size) = {}\".format(batch_encoder_inputs.shape))\n",
    "print(\"batch_decoder_inputs.shape = (decoder_max_unrolling_time, batch_size) = {}\".format(batch_decoder_inputs.shape))\n",
    "print(\"batch_decoder_targets.shape = (decoder_max_unrolling_time, batch_size) = {}\".format(batch_decoder_targets.shape))\n",
    "for i in range(2):\n",
    "    print('--------------example {}---------------'.format(i+1))\n",
    "    print('encoder_input is  {}'.format(batch_encoder_inputs[:, i]))\n",
    "    print('decoder_input is  {}'.format(batch_decoder_inputs[:, i]))\n",
    "    print('decoder_target is {}'.format(batch_decoder_targets[:, i]))"
   ]
  },
  {
   "cell_type": "code",
   "execution_count": 5,
   "metadata": {},
   "outputs": [],
   "source": [
    "# # deletable\n",
    "# encoder_inputs_embedded = tf.nn.embedding_lookup(embeddings, batch_encoder_inputs)\n",
    "# print(sess.run(encoder_inputs_embedded).shape)\n",
    "# print(sess.run(encoder_inputs_embedded)[:, :, :5])"
   ]
  },
  {
   "cell_type": "markdown",
   "metadata": {},
   "source": [
    "## 2 - Embeded inputs and outputs "
   ]
  },
  {
   "cell_type": "code",
   "execution_count": 6,
   "metadata": {},
   "outputs": [],
   "source": [
    "# (encoder_max_unrolling_time, batch_size)\n",
    "encoder_inputs = tf.placeholder(shape=(encoder_max_unrolling_time, None), dtype=tf.int32, name='encoder_inputs')\n",
    "\n",
    "# (decoder_max_unrolling_time, batch_size)\n",
    "decoder_inputs = tf.placeholder(shape=(decoder_max_unrolling_time, None), dtype=tf.int32, name='decoder_inputs')\n",
    "\n",
    "# (decoder_target_dim, batch_size)\n",
    "decoder_targets = tf.placeholder(shape=(None, None), dtype=tf.int32, name='decoder_targets')"
   ]
  },
  {
   "cell_type": "code",
   "execution_count": 7,
   "metadata": {},
   "outputs": [],
   "source": [
    "# 'embeddings' has 10 different rows, the 0th row represents the integer 0, 1st row represents the integer 1, etc.\n",
    "embeddings = tf.Variable(tf.random_uniform([10, 20], -1.0, 1.0), dtype=tf.float32)# (10, 20)"
   ]
  },
  {
   "cell_type": "code",
   "execution_count": 8,
   "metadata": {},
   "outputs": [
    {
     "name": "stdout",
     "output_type": "stream",
     "text": [
      "Tensor(\"embedding_lookup:0\", shape=(8, ?, 20), dtype=float32)\n"
     ]
    }
   ],
   "source": [
    "# (max_time=8, batch_size=100, encoder_input_dim=20)\n",
    "encoder_inputs_embedded = tf.nn.embedding_lookup(embeddings, encoder_inputs)\n",
    "\n",
    "# (max_time=9, batch_size=100, decoder_input_dim=20)\n",
    "decoder_inputs_embedded = tf.nn.embedding_lookup(embeddings, decoder_inputs)\n",
    "print encoder_inputs_embedded"
   ]
  },
  {
   "cell_type": "markdown",
   "metadata": {},
   "source": [
    "## 3 - Encoder and Decoder"
   ]
  },
  {
   "cell_type": "markdown",
   "metadata": {},
   "source": [
    "### Encoder\n",
    "Encoder is designed to have number of input, hidden nodes are 20, 35, respectively."
   ]
  },
  {
   "cell_type": "code",
   "execution_count": 9,
   "metadata": {},
   "outputs": [],
   "source": [
    "encoder_cell = tf.nn.rnn_cell.LSTMCell(num_units=35)\n",
    "\n",
    "# 'encoder_final_state' is a tensor of shape [batch_size, num_hidden]\n",
    "# 'encoder_outputs' is a tensor of shape [max_unrolling_time, batch_size, num_hidden]\n",
    "# 'encoder_inputs_embedded' is a tensor of shape [max_unrolling_time, batch_size, input_dim]\n",
    "encoder_outputs, encoder_final_state = tf.nn.dynamic_rnn(\n",
    "    cell=encoder_cell, inputs=encoder_inputs_embedded,\n",
    "    dtype=tf.float32, time_major=True)\n",
    "\n",
    "del encoder_outputs\n",
    "\n",
    "'''\n",
    "outputs, state = tf.nn.dynamic_rnn(cell, inputs,　dtype, time_major)\n",
    "\n",
    "If time_major=False(default), both inputs and outputs must be shaped [batch_size, max_time, input_dim],\n",
    "If time_major=True, both inputs and outputs must be shaped [max_time, batch_size, input_dim]\n",
    "    max_time: the number of words in a sentence, max unrolling time.\n",
    "    input_dim:\n",
    "state: the final state.\n",
    "\n",
    "padding: Appending 0‘s to examples to make them equal in length.\n",
    "'''"
   ]
  },
  {
   "cell_type": "markdown",
   "metadata": {},
   "source": [
    "### Decoder"
   ]
  },
  {
   "cell_type": "code",
   "execution_count": 10,
   "metadata": {},
   "outputs": [],
   "source": [
    "decoder_cell = tf.nn.rnn_cell.LSTMCell(num_units=35)\n",
    "\n",
    "# 'decoder_outputs' is a tensor of shape [max_unrolling_time=9, batch_size=100, num_hidden=20]\n",
    "# 'decoder_inputs_embedded' is a tensor of shape [max_unrolling_time=9, batch_size=100, num_hidden=20]\n",
    "decoder_outputs, decoder_final_state = tf.nn.dynamic_rnn(\n",
    "    cell=decoder_cell, inputs=decoder_inputs_embedded,\n",
    "    initial_state=encoder_final_state,\n",
    "    dtype=tf.float32, time_major=True, scope=\"plain_decoder\"\n",
    ")"
   ]
  },
  {
   "cell_type": "code",
   "execution_count": 11,
   "metadata": {},
   "outputs": [],
   "source": [
    "# units: Integer or Long, dimensionality of the output space.\n",
    "decoder_logits = tf.layers.dense(inputs=decoder_outputs, units=10, activation=None)\n",
    "# 'decoder_logits' is a tensor of shape [max_unrolling_time=9, batch_size=100, num_outputs=10]\n",
    "\n",
    "# returns the index with the largest value across axes of a tensor.\n",
    "decoder_prediction = tf.argmax(decoder_logits, axis=2)\n",
    "# 'decoder_prediction' is a tensor of shape [max_unrolling_time=9, batch_size=100]"
   ]
  },
  {
   "cell_type": "code",
   "execution_count": 12,
   "metadata": {},
   "outputs": [
    {
     "name": "stdout",
     "output_type": "stream",
     "text": [
      "batch_size=3\n",
      "((9, 3), array([[1, 1, 3],\n",
      "       [0, 2, 0],\n",
      "       [2, 3, 2],\n",
      "       [0, 1, 3],\n",
      "       [3, 3, 2],\n",
      "       [0, 2, 0],\n",
      "       [3, 0, 1],\n",
      "       [2, 1, 3],\n",
      "       [1, 0, 1]]))\n"
     ]
    }
   ],
   "source": [
    "# deletable, understanding tf.argmax\n",
    "a = np.random.normal(-1,1, (9,3,4))\n",
    "# print(a)\n",
    "b = sess.run(tf.argmax(a, axis=2))\n",
    "print(\"batch_size={}\".format(3))\n",
    "print(b.shape, b)"
   ]
  },
  {
   "cell_type": "markdown",
   "metadata": {},
   "source": [
    "### Optimizer"
   ]
  },
  {
   "cell_type": "code",
   "execution_count": 13,
   "metadata": {},
   "outputs": [
    {
     "name": "stdout",
     "output_type": "stream",
     "text": [
      "WARNING:tensorflow:From <ipython-input-13-27db71974d43>:4: softmax_cross_entropy_with_logits (from tensorflow.python.ops.nn_ops) is deprecated and will be removed in a future version.\n",
      "Instructions for updating:\n",
      "\n",
      "Future major versions of TensorFlow will allow gradients to flow\n",
      "into the labels input on backprop by default.\n",
      "\n",
      "See tf.nn.softmax_cross_entropy_with_logits_v2.\n",
      "\n",
      "2.4611502\n"
     ]
    }
   ],
   "source": [
    "# deletable, Understanding tf.nn.softmax_cross_entropy_with_logits(vector1, vector2)\n",
    "a1, a2 = 6, 5\n",
    "b1, b2 = tf.one_hot(a1, depth=10), tf.one_hot(a2, depth=10)\n",
    "print(sess.run(tf.nn.softmax_cross_entropy_with_logits(labels=b1, logits=b2)))"
   ]
  },
  {
   "cell_type": "code",
   "execution_count": 14,
   "metadata": {},
   "outputs": [],
   "source": [
    "# 'stepwise_cross_entropy' is a tensor of shape [max_unrolling_time=9, batch_size=100, 1]\n",
    "# 'decoder_targets' is a tensor of shape [max_unrolling_time=9, batch_size=100]\n",
    "stepwise_cross_entropy = tf.nn.softmax_cross_entropy_with_logits(\n",
    "    labels=tf.one_hot(decoder_targets, depth=10, dtype=tf.float32),\n",
    "    logits=decoder_logits,\n",
    ")\n",
    "\n",
    "loss = tf.reduce_mean(stepwise_cross_entropy)\n",
    "train_op = tf.train.AdamOptimizer().minimize(loss)"
   ]
  },
  {
   "cell_type": "code",
   "execution_count": 15,
   "metadata": {},
   "outputs": [],
   "source": [
    "sess.run(tf.global_variables_initializer())"
   ]
  },
  {
   "cell_type": "markdown",
   "metadata": {},
   "source": [
    "## 4 - Train the Model"
   ]
  },
  {
   "cell_type": "code",
   "execution_count": 16,
   "metadata": {},
   "outputs": [],
   "source": [
    "loss_track = []"
   ]
  },
  {
   "cell_type": "code",
   "execution_count": 17,
   "metadata": {
    "scrolled": false
   },
   "outputs": [
    {
     "name": "stdout",
     "output_type": "stream",
     "text": [
      "--------------------0th batch--------------------\n",
      "  minibatch loss: 2.29209399223\n",
      "sample 1\n",
      "    input     > [8 9 4 4 0 0 0 0]\n",
      "    predicted > [0 0 8 0 0 6 6 6 6]\n",
      "sample 2\n",
      "    input     > [4 8 2 7 6 9 0 0]\n",
      "    predicted > [8 0 0 9 1 1 6 6 6]\n",
      "--------------------1000th batch--------------------\n",
      "  minibatch loss: 0.227524980903\n",
      "sample 1\n",
      "    input     > [9 9 3 9 2 2 9 7]\n",
      "    predicted > [9 9 3 9 2 2 3 6 1]\n",
      "sample 2\n",
      "    input     > [4 3 5 3 0 0 0 0]\n",
      "    predicted > [4 3 5 3 1 0 0 0 0]\n",
      "--------------------2000th batch--------------------\n",
      "  minibatch loss: 0.0570591278374\n",
      "sample 1\n",
      "    input     > [3 2 8 0 0 0 0 0]\n",
      "    predicted > [3 2 8 1 0 0 0 0 0]\n",
      "sample 2\n",
      "    input     > [4 4 6 8 4 8 5 0]\n",
      "    predicted > [4 4 6 8 4 8 5 1 0]\n",
      "--------------------3000th batch--------------------\n",
      "  minibatch loss: 0.0338039398193\n",
      "sample 1\n",
      "    input     > [8 7 7 8 4 8 5 7]\n",
      "    predicted > [8 7 7 8 4 8 5 7 1]\n",
      "sample 2\n",
      "    input     > [3 6 5 2 7 0 0 0]\n",
      "    predicted > [3 6 5 2 7 1 0 0 0]\n"
     ]
    }
   ],
   "source": [
    "for batch in range(3001):\n",
    "    \n",
    "    batch_encoder_inputs, batch_decoder_inputs, batch_decoder_targets = next_batch(\n",
    "        data['encoder_inputs'], data['decoder_inputs'], data['decoder_targets'], batch_size)\n",
    "    \n",
    "    fd = {encoder_inputs: batch_encoder_inputs, \n",
    "                decoder_inputs: batch_decoder_inputs, decoder_targets:batch_decoder_targets}\n",
    "    _, l = sess.run([train_op, loss], feed_dict=fd)\n",
    "    loss_track.append(l)\n",
    "\n",
    "    if batch == 0 or batch % 1000 == 0:\n",
    "        print('--------------------{}th batch--------------------'.format(batch))\n",
    "        print('  minibatch loss: {}'.format(sess.run(loss, feed_dict=fd)))\n",
    "        predict_ = sess.run(decoder_prediction, feed_dict=fd)\n",
    "        # 'fd[encoder_inputs]' is of shape (max_unrolling_time=8, batch_size = 100)\n",
    "        # 'predict_' is of shape (max_unrolling_time=9, batch_size = 100)\n",
    "        for i, (inp, pred) in enumerate(zip(fd[encoder_inputs].T, predict_.T)):\n",
    "            print('sample {}'.format(i + 1))\n",
    "            print('    input     > {}'.format(inp))\n",
    "            print('    predicted > {}'.format(pred))\n",
    "            if i >= 1:\n",
    "                break"
   ]
  },
  {
   "cell_type": "code",
   "execution_count": 18,
   "metadata": {},
   "outputs": [
    {
     "name": "stdout",
     "output_type": "stream",
     "text": [
      "loss 0.0403 after 300100 examples (batch_size=100)\n"
     ]
    },
    {
     "data": {
      "image/png": "[encoded data removed]",
      "text/plain": [
       "<matplotlib.figure.Figure at 0x7f85287af9d0>"
      ]
     },
     "metadata": {
      "needs_background": "light"
     },
     "output_type": "display_data"
    }
   ],
   "source": [
    "%matplotlib inline\n",
    "import matplotlib.pyplot as plt\n",
    "plt.plot(loss_track)\n",
    "print('loss {:.4f} after {} examples (batch_size={})'.format(loss_track[-1], len(loss_track)*batch_size, batch_size))"
   ]
  },
  {
   "cell_type": "code",
   "execution_count": null,
   "metadata": {},
   "outputs": [],
   "source": []
  }
 ],
 "metadata": {
  "kernelspec": {
   "display_name": "kernelForTF",
   "language": "python",
   "name": "kernelfortf"
  },
  "language_info": {
   "codemirror_mode": {
    "name": "ipython",
    "version": 2
   },
   "file_extension": ".py",
   "mimetype": "text/x-python",
   "name": "python",
   "nbconvert_exporter": "python",
   "pygments_lexer": "ipython2",
   "version": "2.7.12"
  }
 },
 "nbformat": 4,
 "nbformat_minor": 2
}
