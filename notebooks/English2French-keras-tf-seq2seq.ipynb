{
 "cells": [
  {
   "cell_type": "markdown",
   "metadata": {},
   "source": [
    "# Neural Machine Translation (seq2seq): From English to French\n",
    "This file is modified from the original file named \"lstm_seq2seq.py\", downloaded from [keras-examples](https://github.com/keras-team/keras/tree/master/examples).\n",
    "\n",
    "Other reference\n",
    "- [tensorflow-nmt](https://github.com/tensorflow/nmt).\n",
    "- [attention-based-seq2seq-from-English-to-Janpanese-in-keras](https://wanasit.github.io/attention-based-sequence-to-sequence-in-keras.html).\n",
    "- [attention-based-seq2seq for Spanish to English translation using tf.keras](https://github.com/tensorflow/tensorflow/blob/master/tensorflow/contrib/eager/python/examples/nmt_with_attention/nmt_with_attention.ipynb).\n",
    "\n",
    "Jun 24, 2019.\n",
    "\n",
    "guorui233@outlook.com"
   ]
  },
  {
   "cell_type": "markdown",
   "metadata": {},
   "source": [
    "+ [keras.layers.LSTM](https://github.com/keras-team/keras/blob/master/keras/layers/recurrent.py#L2051) is a class and will define a LSTM layer instead of a cell."
   ]
  },
  {
   "cell_type": "code",
   "execution_count": 1,
   "metadata": {},
   "outputs": [
    {
     "name": "stderr",
     "output_type": "stream",
     "text": [
      "Using TensorFlow backend.\n"
     ]
    }
   ],
   "source": [
    "from keras.models import Model\n",
    "from keras.layers import Input, LSTM, Dense\n",
    "from keras.callbacks import TensorBoard\n",
    "from time import time\n",
    "from keras.utils import plot_model\n",
    "import matplotlib.pyplot as plt\n",
    "import numpy as np\n",
    "import io\n",
    "time_begin = time()"
   ]
  },
  {
   "cell_type": "markdown",
   "metadata": {},
   "source": [
    "## 1 - Prepare Data"
   ]
  },
  {
   "cell_type": "code",
   "execution_count": 2,
   "metadata": {},
   "outputs": [],
   "source": [
    "latent_dim = 256  # Dimensionality of the encoding space.\n",
    "num_samples = 10000  # Number of samples to train on."
   ]
  },
  {
   "cell_type": "code",
   "execution_count": 3,
   "metadata": {},
   "outputs": [],
   "source": [
    "# Vectorize the data.\n",
    "input_texts = []\n",
    "target_texts = []\n",
    "input_characters = set()\n",
    "target_characters = set()\n",
    "with io.open('fra.txt', 'r', encoding='utf-8') as f:\n",
    "    lines = f.read().split('\\n')"
   ]
  },
  {
   "cell_type": "code",
   "execution_count": 4,
   "metadata": {},
   "outputs": [],
   "source": [
    "for line in lines[:num_samples]:\n",
    "    input_text, target_text = line.split('\\t')\n",
    "    # We use \"tab\" as the \"start sequence\" character\n",
    "    # for the targets, and \"\\n\" as \"end sequence\" character.\n",
    "    target_text = '\\t' + target_text + '\\n'\n",
    "    input_texts.append(input_text)\n",
    "    target_texts.append(target_text)\n",
    "    for char in input_text:\n",
    "        if char not in input_characters:\n",
    "            input_characters.add(char)\n",
    "    for char in target_text:\n",
    "        if char not in target_characters:\n",
    "            target_characters.add(char)"
   ]
  },
  {
   "cell_type": "code",
   "execution_count": 5,
   "metadata": {
    "scrolled": true
   },
   "outputs": [
    {
     "name": "stdout",
     "output_type": "stream",
     "text": [
      "('Number of samples:', 10000)\n",
      "('Number of unique input tokens:', 70)\n",
      "('Number of unique output tokens:', 93)\n",
      "('Max sequence length for inputs:', 16)\n",
      "('Max sequence length for outputs:', 59)\n"
     ]
    }
   ],
   "source": [
    "input_characters = sorted(list(input_characters))\n",
    "target_characters = sorted(list(target_characters))\n",
    "num_enc_tokens = len(input_characters)\n",
    "num_dec_tokens = len(target_characters)\n",
    "max_enc_seq_len = max([len(txt) for txt in input_texts])\n",
    "max_dec_seq_len = max([len(txt) for txt in target_texts])\n",
    "\n",
    "print('Number of samples:', len(input_texts))\n",
    "print('Number of unique input tokens:', num_enc_tokens)\n",
    "print('Number of unique output tokens:', num_dec_tokens)\n",
    "print('Max sequence length for inputs:', max_enc_seq_len)\n",
    "print('Max sequence length for outputs:', max_dec_seq_len)"
   ]
  },
  {
   "cell_type": "code",
   "execution_count": 6,
   "metadata": {},
   "outputs": [],
   "source": [
    "input_token_index = dict(\n",
    "    [(char, i) for i, char in enumerate(input_characters)])\n",
    "\n",
    "target_token_index = dict(\n",
    "    [(char, i) for i, char in enumerate(target_characters)])\n",
    "\n",
    "# len(input_texts)=10000, max_enc_seq_len=16, num_enc_tokens=70\n",
    "enc_in_data = np.zeros(\n",
    "    (len(input_texts), max_enc_seq_len, num_enc_tokens),\n",
    "    dtype='float32')\n",
    "\n",
    "# len(input_texts)=10000, max_dec_seq_len=59, num_dec_tokens=93\n",
    "dec_in_data = np.zeros(\n",
    "    (len(input_texts), max_dec_seq_len, num_dec_tokens),\n",
    "    dtype='float32')\n",
    "\n",
    "# len(input_texts)=10000, max_dec_seq_len=59, num_dec_tokens=93\n",
    "dec_target_data = np.zeros(\n",
    "    (len(input_texts), max_dec_seq_len, num_dec_tokens),\n",
    "    dtype='float32')\n",
    "\n",
    "for i, (input_text, target_text) in enumerate(zip(input_texts, target_texts)):\n",
    "    for t, char in enumerate(input_text):\n",
    "        enc_in_data[i, t, input_token_index[char]] = 1.\n",
    "    for t, char in enumerate(target_text):\n",
    "        # dec_target_data is ahead of dec_in_data by one timestep\n",
    "        dec_in_data[i, t, target_token_index[char]] = 1.\n",
    "        if t > 0:\n",
    "            # dec_target_data will be ahead by one timestep\n",
    "            # and will not include the start character.\n",
    "            dec_target_data[i, t - 1, target_token_index[char]] = 1."
   ]
  },
  {
   "cell_type": "markdown",
   "metadata": {},
   "source": [
    "## 2 - Build and Train the Seq2seq Model"
   ]
  },
  {
   "cell_type": "code",
   "execution_count": 7,
   "metadata": {},
   "outputs": [],
   "source": [
    "# Define an input sequence and process it.\n",
    "enc_in = Input(shape=(None, num_enc_tokens), \n",
    "                       name='enc_in') # num_enc_tokens=70\n",
    "enc_lstm = LSTM(units=latent_dim, \n",
    "               return_state=True, \n",
    "               name='enc_lstm') # latent_dim = 256\n",
    "enc_outputs, state_h, state_c = enc_lstm(enc_in)\n",
    "# We discard `enc_outputs` and only keep the states.\n",
    "enc_states = [state_h, state_c]\n",
    "\n",
    "# Set up the decoder, using `enc_states` as initial state.\n",
    "dec_in = Input(shape=(None, num_dec_tokens),\n",
    "                       name='dec_in') # num_dec_tokens=93\n",
    "dec_lstm = LSTM(latent_dim, \n",
    "                return_sequences=True, \n",
    "                return_state=True,\n",
    "                name='dec_lstm')\n",
    "dec_outputs, _, _ = dec_lstm(dec_in,\n",
    "                                     initial_state=enc_states)\n",
    "\n",
    "# num_dec_tokens=93, from latent_dim=256 to 93\n",
    "dec_dense = Dense(units=num_dec_tokens, activation='softmax', name='dec_dense')\n",
    "dec_outputs = dec_dense(dec_outputs)\n"
   ]
  },
  {
   "cell_type": "code",
   "execution_count": 8,
   "metadata": {},
   "outputs": [],
   "source": [
    "# Define the model that will turn\n",
    "# `enc_in_data` & `dec_in_data` into `dec_target_data`\n",
    "model = Model([enc_in, dec_in], dec_outputs)\n",
    "\n",
    "# Run training\n",
    "model.compile(optimizer='rmsprop', loss='categorical_crossentropy')\n",
    "tbCallBack = TensorBoard(log_dir='./Graph', # stored in the folder `Graph`\n",
    "                         histogram_freq=0,\n",
    "                         write_graph=True,\n",
    "                         write_images=True)"
   ]
  },
  {
   "cell_type": "code",
   "execution_count": 9,
   "metadata": {},
   "outputs": [
    {
     "name": "stdout",
     "output_type": "stream",
     "text": [
      "Train on 8000 samples, validate on 2000 samples\n",
      "Epoch 1/20\n",
      "8000/8000 [==============================] - 9s 1ms/step - loss: 0.9123 - val_loss: 0.9240\n",
      "Epoch 2/20\n",
      "8000/8000 [==============================] - 8s 956us/step - loss: 0.7238 - val_loss: 0.7643\n",
      "Epoch 3/20\n",
      "8000/8000 [==============================] - 8s 972us/step - loss: 0.6183 - val_loss: 0.6853\n",
      "Epoch 4/20\n",
      "8000/8000 [==============================] - 8s 996us/step - loss: 0.5628 - val_loss: 0.6258\n",
      "Epoch 5/20\n",
      "8000/8000 [==============================] - 8s 991us/step - loss: 0.5225 - val_loss: 0.5921\n",
      "Epoch 6/20\n",
      "8000/8000 [==============================] - 8s 973us/step - loss: 0.4909 - val_loss: 0.5657\n",
      "Epoch 7/20\n",
      "8000/8000 [==============================] - 8s 961us/step - loss: 0.4663 - val_loss: 0.5479\n",
      "Epoch 8/20\n",
      "8000/8000 [==============================] - 8s 962us/step - loss: 0.4451 - val_loss: 0.5306\n",
      "Epoch 9/20\n",
      "8000/8000 [==============================] - 8s 963us/step - loss: 0.4274 - val_loss: 0.5210\n",
      "Epoch 10/20\n",
      "8000/8000 [==============================] - 8s 962us/step - loss: 0.4092 - val_loss: 0.4991\n",
      "Epoch 11/20\n",
      "8000/8000 [==============================] - 8s 967us/step - loss: 0.3927 - val_loss: 0.4861\n",
      "Epoch 12/20\n",
      "8000/8000 [==============================] - 8s 968us/step - loss: 0.3782 - val_loss: 0.4884\n",
      "Epoch 13/20\n",
      "8000/8000 [==============================] - 8s 970us/step - loss: 0.3647 - val_loss: 0.4727\n",
      "Epoch 14/20\n",
      "8000/8000 [==============================] - 8s 969us/step - loss: 0.3521 - val_loss: 0.4664\n",
      "Epoch 15/20\n",
      "8000/8000 [==============================] - 8s 975us/step - loss: 0.3401 - val_loss: 0.4550\n",
      "Epoch 16/20\n",
      "8000/8000 [==============================] - 8s 972us/step - loss: 0.3286 - val_loss: 0.4507\n",
      "Epoch 17/20\n",
      "8000/8000 [==============================] - 8s 970us/step - loss: 0.3176 - val_loss: 0.4521\n",
      "Epoch 18/20\n",
      "8000/8000 [==============================] - 8s 971us/step - loss: 0.3071 - val_loss: 0.4503\n",
      "Epoch 19/20\n",
      "8000/8000 [==============================] - 8s 972us/step - loss: 0.2968 - val_loss: 0.4446\n",
      "Epoch 20/20\n",
      "8000/8000 [==============================] - 8s 969us/step - loss: 0.2874 - val_loss: 0.4454\n"
     ]
    }
   ],
   "source": [
    "model_history = model.fit([enc_in_data, dec_in_data], dec_target_data,\n",
    "                          batch_size=64,\n",
    "                          epochs=20,\n",
    "                          validation_split=0.2,\n",
    "                          callbacks=[tbCallBack])"
   ]
  },
  {
   "cell_type": "code",
   "execution_count": 10,
   "metadata": {},
   "outputs": [
    {
     "name": "stderr",
     "output_type": "stream",
     "text": [
      "/home/io/tensorflow/local/lib/python2.7/site-packages/keras/engine/network.py:877: UserWarning: Layer dec_lstm was passed non-serializable keyword arguments: {'initial_state': [<tf.Tensor 'enc_lstm/while/Exit_2:0' shape=(?, 256) dtype=float32>, <tf.Tensor 'enc_lstm/while/Exit_3:0' shape=(?, 256) dtype=float32>]}. They will not be included in the serialized model (and thus will be missing at deserialization time).\n",
      "  '. They will not be included '\n"
     ]
    }
   ],
   "source": [
    "# Save model\n",
    "model.save('s2s.h5')"
   ]
  },
  {
   "cell_type": "markdown",
   "metadata": {},
   "source": [
    "## 3 - Inference on New Data"
   ]
  },
  {
   "cell_type": "code",
   "execution_count": 11,
   "metadata": {},
   "outputs": [],
   "source": [
    "# Next: inference mode (sampling).\n",
    "# Here's the drill:\n",
    "# 1) encode input and retrieve initial decoder state\n",
    "# 2) run one step of decoder with this initial state\n",
    "# and a \"start of sequence\" token as target.\n",
    "# Output will be the next target token\n",
    "# 3) Repeat with the current target token and current states\n",
    "\n",
    "# Define sampling models"
   ]
  },
  {
   "cell_type": "code",
   "execution_count": 12,
   "metadata": {},
   "outputs": [],
   "source": [
    "enc_model = Model(enc_in, enc_states)"
   ]
  },
  {
   "cell_type": "code",
   "execution_count": 13,
   "metadata": {},
   "outputs": [],
   "source": [
    "dec_state_h_in = Input(shape=(latent_dim,), name='dec_state_h_in')\n",
    "dec_state_c_in = Input(shape=(latent_dim,), name='dec_state_c_in')\n",
    "dec_states_inputs = [dec_state_h_in, dec_state_c_in]\n",
    "\n",
    "dec_outputs, state_h, state_c = dec_lstm(\n",
    "    dec_in, initial_state=dec_states_inputs)\n",
    "\n",
    "dec_states = [state_h, state_c]\n",
    "dense_outputs = dec_dense(dec_outputs)\n",
    "dec_model = Model([dec_in] + dec_states_inputs, \n",
    "                      [dense_outputs] + dec_states)"
   ]
  },
  {
   "cell_type": "code",
   "execution_count": 14,
   "metadata": {
    "scrolled": true
   },
   "outputs": [
    {
     "name": "stdout",
     "output_type": "stream",
     "text": [
      "<keras.engine.input_layer.InputLayer object at 0x7f3d00526c90>\t name:enc_in\n",
      "<keras.engine.input_layer.InputLayer object at 0x7f3d00526ed0>\t name:dec_in\n",
      "<keras.layers.recurrent.LSTM object at 0x7f3d00526c50>\t name:enc_lstm\n",
      "<keras.layers.recurrent.LSTM object at 0x7f3d00526bd0>\t name:dec_lstm\n",
      "<keras.layers.core.Dense object at 0x7f3d00393810>\t name:dec_dense\n",
      "---------------------------------------\n",
      "<keras.engine.input_layer.InputLayer object at 0x7f3d00526c90>\t name:enc_in\n",
      "<keras.layers.recurrent.LSTM object at 0x7f3d00526c50>\t name:enc_lstm\n",
      "---------------------------------------\n",
      "<keras.engine.input_layer.InputLayer object at 0x7f3d00526ed0>\t name:dec_in\n",
      "<keras.engine.input_layer.InputLayer object at 0x7f3c901744d0>\t name:dec_state_h_in\n",
      "<keras.engine.input_layer.InputLayer object at 0x7f3c90174490>\t name:dec_state_c_in\n",
      "<keras.layers.recurrent.LSTM object at 0x7f3d00526bd0>\t name:dec_lstm\n",
      "<keras.layers.core.Dense object at 0x7f3d00393810>\t name:dec_dense\n"
     ]
    }
   ],
   "source": [
    "for l in model.layers:\n",
    "    print('{}\\t name:{}'.format(str(l), l.name))\n",
    "print('---------------------------------------')\n",
    "for l in enc_model.layers:\n",
    "    print('{}\\t name:{}'.format(str(l), l.name))\n",
    "print('---------------------------------------')\n",
    "for l in dec_model.layers:\n",
    "    print('{}\\t name:{}'.format(str(l), l.name))"
   ]
  },
  {
   "cell_type": "code",
   "execution_count": 15,
   "metadata": {},
   "outputs": [],
   "source": [
    "# Reverse-lookup token index to decode sequences back to\n",
    "# something readable.\n",
    "reverse_input_char_index = dict(\n",
    "    (i, char) for char, i in input_token_index.items())\n",
    "reverse_target_char_index = dict(\n",
    "    (i, char) for char, i in target_token_index.items())"
   ]
  },
  {
   "cell_type": "code",
   "execution_count": 16,
   "metadata": {},
   "outputs": [],
   "source": [
    "def decode_sequence(input_seq): # input_seq is tensor of shape (1, 16, 70)\n",
    "    # Encode the input as state vectors.\n",
    "    states_value = enc_model.predict(input_seq)\n",
    "\n",
    "    # Generate empty target sequence of length 1.\n",
    "    target_seq = np.zeros((1, 1, num_dec_tokens))\n",
    "    \n",
    "    # Populate the first character of target sequence with the start character '\\t'.\n",
    "    target_seq[0, 0, target_token_index['\\t']] = 1. # '\\t' means tab, target_token_index['\\t']=0\n",
    "\n",
    "    # Sampling loop for a batch of sequences\n",
    "    # (to simplify, here we assume a batch of size 1).\n",
    "    stop_condition = False\n",
    "    decoded_sentence = ''\n",
    "    while not stop_condition:\n",
    "        output_tokens, h, c = dec_model.predict(\n",
    "            [target_seq] + states_value)\n",
    "\n",
    "        # Sample a token\n",
    "        sampled_token_index = np.argmax(output_tokens[0, -1, :])\n",
    "        sampled_char = reverse_target_char_index[sampled_token_index]\n",
    "        decoded_sentence += sampled_char\n",
    "\n",
    "        # Exit condition: either hit max length\n",
    "        # or find stop character.\n",
    "        if (sampled_char == '\\n' or\n",
    "           len(decoded_sentence) > max_dec_seq_len):\n",
    "            stop_condition = True\n",
    "\n",
    "        # Update the target sequence (of length 1).\n",
    "        target_seq = np.zeros((1, 1, num_dec_tokens))\n",
    "        target_seq[0, 0, sampled_token_index] = 1.\n",
    "\n",
    "        # Update states\n",
    "        states_value = [h, c]\n",
    "\n",
    "    return decoded_sentence"
   ]
  },
  {
   "cell_type": "code",
   "execution_count": 17,
   "metadata": {},
   "outputs": [
    {
     "name": "stdout",
     "output_type": "stream",
     "text": [
      "-\n",
      "('Input sentence:', u'Go.')\n",
      "('Decoded sentence:', u'Allez chercher votre mante !\\n')\n",
      "-\n",
      "('Input sentence:', u'Hi.')\n",
      "('Decoded sentence:', u'Attrape le chanter.\\n')\n",
      "-\n",
      "('Input sentence:', u'Run!')\n",
      "('Decoded sentence:', u\"Attends-toi \\xe0 l'istent !\\n\")\n",
      "-\n",
      "('Input sentence:', u'Run!')\n",
      "('Decoded sentence:', u\"Attends-toi \\xe0 l'istent !\\n\")\n",
      "-\n",
      "('Input sentence:', u'Who?')\n",
      "('Decoded sentence:', u'Qui est conceure ?\\n')\n"
     ]
    }
   ],
   "source": [
    "for seq_index in range(5):\n",
    "    # Take one sequence (part of the training set)\n",
    "    # for trying out decoding.\n",
    "    input_seq = enc_in_data[seq_index: seq_index + 1]\n",
    "    decoded_sentence = decode_sequence(input_seq)\n",
    "    print('-')\n",
    "    print('Input sentence:', input_texts[seq_index])\n",
    "    print('Decoded sentence:', decoded_sentence)"
   ]
  },
  {
   "cell_type": "code",
   "execution_count": 18,
   "metadata": {},
   "outputs": [
    {
     "name": "stdout",
     "output_type": "stream",
     "text": [
      "Time costs 2.66100138426 minutes.\n"
     ]
    }
   ],
   "source": [
    "print(\"Time costs {} minutes.\".format((time() - time_begin)/60.))"
   ]
  },
  {
   "cell_type": "code",
   "execution_count": 19,
   "metadata": {},
   "outputs": [],
   "source": [
    "plot_model(model, to_file='model.png')\n",
    "plot_model(dec_model, to_file='dec_model.png')\n",
    "plot_model(enc_model, to_file='enc_model.png')"
   ]
  },
  {
   "cell_type": "code",
   "execution_count": 20,
   "metadata": {},
   "outputs": [
    {
     "data": {
      "image/png": "[encoded data removed]",
      "text/plain": [
       "<matplotlib.figure.Figure at 0x7f3c9142b650>"
      ]
     },
     "metadata": {
      "needs_background": "light"
     },
     "output_type": "display_data"
    }
   ],
   "source": [
    "plt.plot(model_history.history['loss'])\n",
    "plt.plot(model_history.history['val_loss'])\n",
    "plt.title('Model loss')\n",
    "plt.ylabel('Loss')\n",
    "plt.xlabel('Epoch')\n",
    "plt.legend(['Train', 'Test'], loc='upper right')\n",
    "plt.show()"
   ]
  },
  {
   "cell_type": "code",
   "execution_count": 21,
   "metadata": {},
   "outputs": [],
   "source": [
    "# in terminal\n",
    "# tensorboard --logdir ./Graph"
   ]
  }
 ],
 "metadata": {
  "kernelspec": {
   "display_name": "kernelForTF",
   "language": "python",
   "name": "kernelfortf"
  },
  "language_info": {
   "codemirror_mode": {
    "name": "ipython",
    "version": 2
   },
   "file_extension": ".py",
   "mimetype": "text/x-python",
   "name": "python",
   "nbconvert_exporter": "python",
   "pygments_lexer": "ipython2",
   "version": "2.7.12"
  }
 },
 "nbformat": 4,
 "nbformat_minor": 2
}
